{
 "cells": [
  {
   "cell_type": "code",
   "execution_count": null,
   "id": "d226c247-5b6b-43e4-bd65-ed75a2981b41",
   "metadata": {},
   "outputs": [],
   "source": [
    "import numpy as np\n",
    "import pandas as pd\n",
    "# import matplotlib.pylot as plt\n",
    "# import seaborn as sns\n",
    "from sklearn.preprocessing import LabelEncoder\n",
    "from sklearn.model_selection import train_test_split\n",
    "from xgboost import XGBRegressor\n",
    "from skleran import metrics"
   ]
  },
  {
   "cell_type": "code",
   "execution_count": null,
   "id": "ca5e5d1e-0d32-431c-8456-917d42732d8c",
   "metadata": {},
   "outputs": [],
   "source": [
    "df=pd.read_csv('Test.csv')"
   ]
  },
  {
   "cell_type": "code",
   "execution_count": null,
   "id": "9f506178-e45f-49fd-87f5-904b507dc5d6",
   "metadata": {},
   "outputs": [],
   "source": [
    "df.head()"
   ]
  },
  {
   "cell_type": "code",
   "execution_count": null,
   "id": "9b6e9e83-cc58-4bfc-bf05-7fae5fa2f962",
   "metadata": {},
   "outputs": [],
   "source": [
    "df.is_null"
   ]
  },
  {
   "cell_type": "code",
   "execution_count": null,
   "id": "ad6ec0e0-a313-4ad9-bbe4-4e1b7edffae3",
   "metadata": {},
   "outputs": [],
   "source": []
  }
 ],
 "metadata": {
  "kernelspec": {
   "display_name": "Python 3 (ipykernel)",
   "language": "python",
   "name": "python3"
  },
  "language_info": {
   "codemirror_mode": {
    "name": "ipython",
    "version": 3
   },
   "file_extension": ".py",
   "mimetype": "text/x-python",
   "name": "python",
   "nbconvert_exporter": "python",
   "pygments_lexer": "ipython3",
   "version": "3.12.2"
  }
 },
 "nbformat": 4,
 "nbformat_minor": 5
}
